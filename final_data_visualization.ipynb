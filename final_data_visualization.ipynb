{
 "cells": [
  {
   "cell_type": "markdown",
   "id": "7ecec886",
   "metadata": {},
   "source": [
    "# Data Visualization - Battery Efficiency Dataset\n",
    "\n",
    "In this notebook, we:\n",
    "- Load the processed dataset\n",
    "- Visualize key aspects of battery efficiency"
   ]
  },
  {
   "cell_type": "code",
   "execution_count": null,
   "id": "95b42c0a",
   "metadata": {},
   "outputs": [],
   "source": [
    "\n",
    "import pandas as pd\n",
    "import matplotlib.pyplot as plt\n",
    "import seaborn as sns\n",
    "\n",
    "# Load the processed data\n",
    "data = pd.read_csv('/mnt/data/battery_efficiency_processed.csv')\n"
   ]
  },
  {
   "cell_type": "markdown",
   "id": "75b5b5bf",
   "metadata": {},
   "source": [
    "## Distribution of Battery Life"
   ]
  },
  {
   "cell_type": "code",
   "execution_count": null,
   "id": "5ce5d54a",
   "metadata": {},
   "outputs": [],
   "source": [
    "\n",
    "plt.figure(figsize=(8, 6))\n",
    "sns.histplot(data['Battery Life (minutes)'], bins=20, kde=True)\n",
    "plt.title('Distribution of Battery Life (in Minutes)')\n",
    "plt.xlabel('Battery Life (Minutes)')\n",
    "plt.ylabel('Frequency')\n",
    "plt.grid(True)\n",
    "plt.savefig('/mnt/data/battery_life_distribution.png')\n",
    "plt.show()\n"
   ]
  },
  {
   "cell_type": "markdown",
   "id": "e0dd392f",
   "metadata": {},
   "source": [
    "## Device Temperature vs Battery Life"
   ]
  },
  {
   "cell_type": "code",
   "execution_count": null,
   "id": "99547dfd",
   "metadata": {},
   "outputs": [],
   "source": [
    "\n",
    "plt.figure(figsize=(8, 6))\n",
    "sns.scatterplot(x='Device Temperature (°C)', y='Battery Life (minutes)', hue='Task Type', data=data)\n",
    "plt.title('Device Temperature vs Battery Life')\n",
    "plt.xlabel('Device Temperature (°C)')\n",
    "plt.ylabel('Battery Life (Minutes)')\n",
    "plt.legend(title='Task Type', bbox_to_anchor=(1.05, 1), loc='upper left')\n",
    "plt.grid(True)\n",
    "plt.tight_layout()\n",
    "plt.savefig('/mnt/data/temperature_vs_battery.png')\n",
    "plt.show()\n"
   ]
  },
  {
   "cell_type": "markdown",
   "id": "7b03ab3c",
   "metadata": {},
   "source": [
    "## CPU Utilization vs Battery Life"
   ]
  },
  {
   "cell_type": "code",
   "execution_count": null,
   "id": "72b66dee",
   "metadata": {},
   "outputs": [],
   "source": [
    "\n",
    "plt.figure(figsize=(8, 6))\n",
    "sns.scatterplot(x='CPU Utilization (%)', y='Battery Life (minutes)', hue='Device Model', data=data)\n",
    "plt.title('CPU Utilization vs Battery Life')\n",
    "plt.xlabel('CPU Utilization (%)')\n",
    "plt.ylabel('Battery Life (Minutes)')\n",
    "plt.legend(title='Device Model', bbox_to_anchor=(1.05, 1), loc='upper left')\n",
    "plt.grid(True)\n",
    "plt.tight_layout()\n",
    "plt.savefig('/mnt/data/cpu_vs_battery.png')\n",
    "plt.show()\n"
   ]
  },
  {
   "cell_type": "markdown",
   "id": "987f8e50",
   "metadata": {},
   "source": [
    "## Memory Usage vs Battery Life"
   ]
  },
  {
   "cell_type": "code",
   "execution_count": null,
   "id": "776328c3",
   "metadata": {},
   "outputs": [],
   "source": [
    "\n",
    "plt.figure(figsize=(8, 6))\n",
    "sns.scatterplot(x='Memory Usage (% RAM)', y='Battery Life (minutes)', hue='Task Type', data=data)\n",
    "plt.title('Memory Usage vs Battery Life')\n",
    "plt.xlabel('Memory Usage (% RAM)')\n",
    "plt.ylabel('Battery Life (Minutes)')\n",
    "plt.legend(title='Task Type', bbox_to_anchor=(1.05, 1), loc='upper left')\n",
    "plt.grid(True)\n",
    "plt.tight_layout()\n",
    "plt.savefig('/mnt/data/memory_vs_battery.png')\n",
    "plt.show()\n",
    "\n",
    "print(\"Data visualization complete. Graphs saved as PNG files.\")\n"
   ]
  }
 ],
 "metadata": {},
 "nbformat": 4,
 "nbformat_minor": 5
}
