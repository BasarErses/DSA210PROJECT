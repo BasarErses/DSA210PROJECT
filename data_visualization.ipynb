{
 "cells": [
  {
   "cell_type": "markdown",
   "id": "0c3b102b",
   "metadata": {},
   "source": [
    "# Data Visualization - Battery Efficiency Dataset\n",
    "\n",
    "In this notebook, we:\n",
    "- Load the processed dataset\n",
    "- Create insightful visualizations to understand data patterns"
   ]
  },
  {
   "cell_type": "code",
   "execution_count": null,
   "id": "afb9a949",
   "metadata": {},
   "outputs": [],
   "source": [
    "# 📚 Import Libraries\n",
    "import pandas as pd\n",
    "import matplotlib.pyplot as plt\n",
    "import seaborn as sns\n",
    "sns.set(style='whitegrid')"
   ]
  },
  {
   "cell_type": "code",
   "execution_count": null,
   "id": "2d763f71",
   "metadata": {},
   "outputs": [],
   "source": [
    "# 📂 Load the Processed Dataset\n",
    "file_path = '/mnt/data/battery_efficiency_processed.csv'\n",
    "data = pd.read_csv(file_path)\n",
    "print('Processed dataset loaded successfully!')\n",
    "data.head()"
   ]
  },
  {
   "cell_type": "code",
   "execution_count": null,
   "id": "f5a42bfe",
   "metadata": {},
   "outputs": [],
   "source": [
    "# 📊 Plot 1: Distribution of Battery Life\n",
    "plt.figure(figsize=(10, 6))\n",
    "sns.histplot(data['Battery Life (minutes)'], bins=20, kde=True)\n",
    "plt.title('Distribution of Battery Life (Minutes)', fontsize=16)\n",
    "plt.xlabel('Battery Life (Minutes)', fontsize=14)\n",
    "plt.ylabel('Frequency', fontsize=14)\n",
    "plt.savefig('/mnt/data/battery_life_distribution.png')\n",
    "plt.show()"
   ]
  },
  {
   "cell_type": "code",
   "execution_count": null,
   "id": "41792f5f",
   "metadata": {},
   "outputs": [],
   "source": [
    "# 🌡️ Plot 2: Device Temperature vs Battery Life\n",
    "plt.figure(figsize=(10, 6))\n",
    "sns.scatterplot(x='Device Temperature (°C)', y='Battery Life (minutes)', hue='Task Type', data=data)\n",
    "plt.title('Device Temperature vs Battery Life', fontsize=16)\n",
    "plt.xlabel('Device Temperature (°C)', fontsize=14)\n",
    "plt.ylabel('Battery Life (Minutes)', fontsize=14)\n",
    "plt.legend(title='Task Type', bbox_to_anchor=(1.05, 1), loc='upper left')\n",
    "plt.tight_layout()\n",
    "plt.savefig('/mnt/data/temperature_vs_battery.png')\n",
    "plt.show()"
   ]
  },
  {
   "cell_type": "code",
   "execution_count": null,
   "id": "953e2500",
   "metadata": {},
   "outputs": [],
   "source": [
    "# 🖥️ Plot 3: CPU Utilization vs Battery Life\n",
    "plt.figure(figsize=(10, 6))\n",
    "sns.scatterplot(x='CPU Utilization (%)', y='Battery Life (minutes)', hue='Device Model', data=data)\n",
    "plt.title('CPU Utilization vs Battery Life', fontsize=16)\n",
    "plt.xlabel('CPU Utilization (%)', fontsize=14)\n",
    "plt.ylabel('Battery Life (Minutes)', fontsize=14)\n",
    "plt.legend(title='Device Model', bbox_to_anchor=(1.05, 1), loc='upper left')\n",
    "plt.tight_layout()\n",
    "plt.savefig('/mnt/data/cpu_vs_battery.png')\n",
    "plt.show()"
   ]
  },
  {
   "cell_type": "code",
   "execution_count": null,
   "id": "b1b1676b",
   "metadata": {},
   "outputs": [],
   "source": [
    "# 🧠 Plot 4: Memory Usage vs Battery Life\n",
    "plt.figure(figsize=(10, 6))\n",
    "sns.scatterplot(x='Memory Usage (% RAM)', y='Battery Life (minutes)', hue='Task Type', data=data)\n",
    "plt.title('Memory Usage vs Battery Life', fontsize=16)\n",
    "plt.xlabel('Memory Usage (% RAM)', fontsize=14)\n",
    "plt.ylabel('Battery Life (Minutes)', fontsize=14)\n",
    "plt.legend(title='Task Type', bbox_to_anchor=(1.05, 1), loc='upper left')\n",
    "plt.tight_layout()\n",
    "plt.savefig('/mnt/data/memory_vs_battery.png')\n",
    "plt.show()"
   ]
  }
 ],
 "metadata": {},
 "nbformat": 4,
 "nbformat_minor": 5
}
