{
 "cells": [
  {
   "cell_type": "markdown",
   "id": "4d8bd0bf",
   "metadata": {},
   "source": [
    "# Data Visualization - Battery Efficiency Dataset\n",
    "\n",
    "In this notebook, we:\n",
    "- Load the processed dataset\n",
    "- Create visualizations to explore battery efficiency factors"
   ]
  },
  {
   "cell_type": "markdown",
   "id": "3ee898f4",
   "metadata": {},
   "source": [
    "## 1. Import necessary libraries"
   ]
  },
  {
   "cell_type": "code",
   "execution_count": null,
   "id": "d506513b",
   "metadata": {},
   "outputs": [],
   "source": [
    "# Importing visualization and data libraries\n",
    "import pandas as pd\n",
    "import matplotlib.pyplot as plt\n",
    "import seaborn as sns\n",
    "\n",
    "# Setting a clean aesthetic style for plots\n",
    "sns.set(style='whitegrid')"
   ]
  },
  {
   "cell_type": "markdown",
   "id": "5795cd4a",
   "metadata": {},
   "source": [
    "## 2. Load the processed dataset"
   ]
  },
  {
   "cell_type": "code",
   "execution_count": null,
   "id": "66fa1b79",
   "metadata": {},
   "outputs": [],
   "source": [
    "# Loading the cleaned dataset for visualization\n",
    "file_path = '/mnt/data/battery_efficiency_processed.csv'\n",
    "data = pd.read_csv(file_path)\n",
    "print('Processed dataset loaded successfully!')\n",
    "data.head()"
   ]
  },
  {
   "cell_type": "markdown",
   "id": "56832ca9",
   "metadata": {},
   "source": [
    "## 3. Plot Distribution of Battery Life"
   ]
  },
  {
   "cell_type": "code",
   "execution_count": null,
   "id": "a719c7a9",
   "metadata": {},
   "outputs": [],
   "source": [
    "# Plotting the distribution of battery life to observe its spread\n",
    "plt.figure(figsize=(10, 6))\n",
    "sns.histplot(data['Battery Life (minutes)'], bins=20, kde=True)\n",
    "plt.title('Distribution of Battery Life (Minutes)', fontsize=16)\n",
    "plt.xlabel('Battery Life (Minutes)', fontsize=14)\n",
    "plt.ylabel('Frequency', fontsize=14)\n",
    "plt.savefig('/mnt/data/battery_life_distribution.png')\n",
    "plt.show()"
   ]
  },
  {
   "cell_type": "markdown",
   "id": "ff638e8c",
   "metadata": {},
   "source": [
    "## 4. Plot Device Temperature vs Battery Life"
   ]
  },
  {
   "cell_type": "code",
   "execution_count": null,
   "id": "96b433d3",
   "metadata": {},
   "outputs": [],
   "source": [
    "# Scatter plot showing the relationship between device temperature and battery life, grouped by task type\n",
    "plt.figure(figsize=(10, 6))\n",
    "sns.scatterplot(x='Device Temperature (°C)', y='Battery Life (minutes)', hue='Task Type', data=data)\n",
    "plt.title('Device Temperature vs Battery Life', fontsize=16)\n",
    "plt.xlabel('Device Temperature (°C)', fontsize=14)\n",
    "plt.ylabel('Battery Life (Minutes)', fontsize=14)\n",
    "plt.legend(title='Task Type', bbox_to_anchor=(1.05, 1), loc='upper left')\n",
    "plt.tight_layout()\n",
    "plt.savefig('/mnt/data/temperature_vs_battery.png')\n",
    "plt.show()"
   ]
  },
  {
   "cell_type": "markdown",
   "id": "5335e3dc",
   "metadata": {},
   "source": [
    "## 5. Plot CPU Utilization vs Battery Life"
   ]
  },
  {
   "cell_type": "code",
   "execution_count": null,
   "id": "33d24b93",
   "metadata": {},
   "outputs": [],
   "source": [
    "# Scatter plot illustrating CPU utilization percentage versus battery life, colored by device model\n",
    "plt.figure(figsize=(10, 6))\n",
    "sns.scatterplot(x='CPU Utilization (%)', y='Battery Life (minutes)', hue='Device Model', data=data)\n",
    "plt.title('CPU Utilization vs Battery Life', fontsize=16)\n",
    "plt.xlabel('CPU Utilization (%)', fontsize=14)\n",
    "plt.ylabel('Battery Life (Minutes)', fontsize=14)\n",
    "plt.legend(title='Device Model', bbox_to_anchor=(1.05, 1), loc='upper left')\n",
    "plt.tight_layout()\n",
    "plt.savefig('/mnt/data/cpu_vs_battery.png')\n",
    "plt.show()"
   ]
  },
  {
   "cell_type": "markdown",
   "id": "633fc9fa",
   "metadata": {},
   "source": [
    "## 6. Plot Memory Usage vs Battery Life"
   ]
  },
  {
   "cell_type": "code",
   "execution_count": null,
   "id": "9ddbf598",
   "metadata": {},
   "outputs": [],
   "source": [
    "# Scatter plot showing memory usage percentage against battery life, differentiated by task type\n",
    "plt.figure(figsize=(10, 6))\n",
    "sns.scatterplot(x='Memory Usage (% RAM)', y='Battery Life (minutes)', hue='Task Type', data=data)\n",
    "plt.title('Memory Usage vs Battery Life', fontsize=16)\n",
    "plt.xlabel('Memory Usage (% RAM)', fontsize=14)\n",
    "plt.ylabel('Battery Life (Minutes)', fontsize=14)\n",
    "plt.legend(title='Task Type', bbox_to_anchor=(1.05, 1), loc='upper left')\n",
    "plt.tight_layout()\n",
    "plt.savefig('/mnt/data/memory_vs_battery.png')\n",
    "plt.show()"
   ]
  }
 ],
 "metadata": {},
 "nbformat": 4,
 "nbformat_minor": 5
}
