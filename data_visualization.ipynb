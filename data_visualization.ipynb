{
 "cells": [
  {
   "cell_type": "markdown",
   "id": "e5bf0a2e",
   "metadata": {},
   "source": [
    "# Data Visualization - Battery Efficiency Dataset\n",
    "\n",
    "In this notebook, we:\n",
    "- Load the processed dataset\n",
    "- Create various visualizations to understand the dataset better"
   ]
  },
  {
   "cell_type": "code",
   "execution_count": null,
   "id": "97e3c0c4",
   "metadata": {},
   "outputs": [],
   "source": [
    "# Importing necessary libraries\n",
    "import pandas as pd\n",
    "import matplotlib.pyplot as plt\n",
    "import seaborn as sns\n",
    "\n",
    "# Setting up the visual theme\n",
    "sns.set(style='whitegrid')"
   ]
  },
  {
   "cell_type": "code",
   "execution_count": null,
   "id": "2e89d92f",
   "metadata": {},
   "outputs": [],
   "source": [
    "# Load the processed dataset\n",
    "file_path = '/mnt/data/battery_efficiency_processed.csv'\n",
    "data = pd.read_csv(file_path)\n",
    "print('Processed dataset loaded successfully!')\n",
    "data.head()"
   ]
  },
  {
   "cell_type": "code",
   "execution_count": null,
   "id": "b5db8051",
   "metadata": {},
   "outputs": [],
   "source": [
    "# Plot 1: Distribution of Battery Life\n",
    "plt.figure(figsize=(10, 6))\n",
    "sns.histplot(data['Battery Life (minutes)'], bins=20, kde=True)\n",
    "plt.title('Distribution of Battery Life (Minutes)', fontsize=16)\n",
    "plt.xlabel('Battery Life (Minutes)', fontsize=14)\n",
    "plt.ylabel('Frequency', fontsize=14)\n",
    "plt.savefig('/mnt/data/battery_life_distribution.png')\n",
    "plt.show()"
   ]
  },
  {
   "cell_type": "code",
   "execution_count": null,
   "id": "09b3ceb7",
   "metadata": {},
   "outputs": [],
   "source": [
    "# Plot 2: Device Temperature vs Battery Life by Task Type\n",
    "plt.figure(figsize=(10, 6))\n",
    "sns.scatterplot(x='Device Temperature (°C)', y='Battery Life (minutes)', hue='Task Type', data=data)\n",
    "plt.title('Device Temperature vs Battery Life', fontsize=16)\n",
    "plt.xlabel('Device Temperature (°C)', fontsize=14)\n",
    "plt.ylabel('Battery Life (Minutes)', fontsize=14)\n",
    "plt.legend(title='Task Type', bbox_to_anchor=(1.05, 1), loc='upper left')\n",
    "plt.tight_layout()\n",
    "plt.savefig('/mnt/data/temperature_vs_battery.png')\n",
    "plt.show()"
   ]
  },
  {
   "cell_type": "code",
   "execution_count": null,
   "id": "dfc22070",
   "metadata": {},
   "outputs": [],
   "source": [
    "# Plot 3: CPU Utilization vs Battery Life by Device Model\n",
    "plt.figure(figsize=(10, 6))\n",
    "sns.scatterplot(x='CPU Utilization (%)', y='Battery Life (minutes)', hue='Device Model', data=data)\n",
    "plt.title('CPU Utilization vs Battery Life', fontsize=16)\n",
    "plt.xlabel('CPU Utilization (%)', fontsize=14)\n",
    "plt.ylabel('Battery Life (Minutes)', fontsize=14)\n",
    "plt.legend(title='Device Model', bbox_to_anchor=(1.05, 1), loc='upper left')\n",
    "plt.tight_layout()\n",
    "plt.savefig('/mnt/data/cpu_vs_battery.png')\n",
    "plt.show()"
   ]
  },
  {
   "cell_type": "code",
   "execution_count": null,
   "id": "bf0c7476",
   "metadata": {},
   "outputs": [],
   "source": [
    "# Plot 4: Memory Usage vs Battery Life by Task Type\n",
    "plt.figure(figsize=(10, 6))\n",
    "sns.scatterplot(x='Memory Usage (% RAM)', y='Battery Life (minutes)', hue='Task Type', data=data)\n",
    "plt.title('Memory Usage vs Battery Life', fontsize=16)\n",
    "plt.xlabel('Memory Usage (% RAM)', fontsize=14)\n",
    "plt.ylabel('Battery Life (Minutes)', fontsize=14)\n",
    "plt.legend(title='Task Type', bbox_to_anchor=(1.05, 1), loc='upper left')\n",
    "plt.tight_layout()\n",
    "plt.savefig('/mnt/data/memory_vs_battery.png')\n",
    "plt.show()"
   ]
  }
 ],
 "metadata": {},
 "nbformat": 4,
 "nbformat_minor": 5
}
