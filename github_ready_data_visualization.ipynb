{
 "cells": [
  {
   "cell_type": "markdown",
   "id": "bd846501",
   "metadata": {},
   "source": [
    "# Data Visualization - Battery Efficiency Dataset\n",
    "\n",
    "This notebook:\n",
    "- Loads the processed dataset\n",
    "- Visualizes different aspects of battery efficiency\n"
   ]
  },
  {
   "cell_type": "code",
   "execution_count": null,
   "id": "830812d1",
   "metadata": {},
   "outputs": [],
   "source": [
    "\n",
    "import pandas as pd\n",
    "import matplotlib.pyplot as plt\n",
    "import seaborn as sns\n",
    "\n",
    "# Load the processed data\n",
    "data = pd.read_csv('/mnt/data/battery_efficiency_processed.csv')\n",
    "sns.set(style='whitegrid')\n"
   ]
  },
  {
   "cell_type": "markdown",
   "id": "a64de56a",
   "metadata": {},
   "source": [
    "## Battery Life Distribution"
   ]
  },
  {
   "cell_type": "code",
   "execution_count": null,
   "id": "27fa39d4",
   "metadata": {},
   "outputs": [],
   "source": [
    "\n",
    "plt.figure(figsize=(8,6))\n",
    "sns.histplot(data['Battery Life (minutes)'], bins=20, kde=True)\n",
    "plt.title('Distribution of Battery Life (Minutes)')\n",
    "plt.xlabel('Battery Life (Minutes)')\n",
    "plt.ylabel('Frequency')\n",
    "plt.grid(True)\n",
    "plt.savefig('/mnt/data/battery_life_distribution.png')\n",
    "plt.show()\n"
   ]
  },
  {
   "cell_type": "markdown",
   "id": "c97d5bc4",
   "metadata": {},
   "source": [
    "## Device Temperature vs Battery Life"
   ]
  },
  {
   "cell_type": "code",
   "execution_count": null,
   "id": "ddbce090",
   "metadata": {},
   "outputs": [],
   "source": [
    "\n",
    "plt.figure(figsize=(8,6))\n",
    "sns.scatterplot(x='Device Temperature (°C)', y='Battery Life (minutes)', hue='Task Type', data=data)\n",
    "plt.title('Device Temperature vs Battery Life')\n",
    "plt.xlabel('Device Temperature (°C)')\n",
    "plt.ylabel('Battery Life (Minutes)')\n",
    "plt.legend(title='Task Type', bbox_to_anchor=(1.05, 1), loc='upper left')\n",
    "plt.grid(True)\n",
    "plt.tight_layout()\n",
    "plt.savefig('/mnt/data/temperature_vs_battery.png')\n",
    "plt.show()\n"
   ]
  },
  {
   "cell_type": "markdown",
   "id": "edc05035",
   "metadata": {},
   "source": [
    "## CPU Utilization vs Battery Life"
   ]
  },
  {
   "cell_type": "code",
   "execution_count": null,
   "id": "f80a8827",
   "metadata": {},
   "outputs": [],
   "source": [
    "\n",
    "plt.figure(figsize=(8,6))\n",
    "sns.scatterplot(x='CPU Utilization (%)', y='Battery Life (minutes)', hue='Device Model', data=data)\n",
    "plt.title('CPU Utilization vs Battery Life')\n",
    "plt.xlabel('CPU Utilization (%)')\n",
    "plt.ylabel('Battery Life (Minutes)')\n",
    "plt.legend(title='Device Model', bbox_to_anchor=(1.05, 1), loc='upper left')\n",
    "plt.grid(True)\n",
    "plt.tight_layout()\n",
    "plt.savefig('/mnt/data/cpu_vs_battery.png')\n",
    "plt.show()\n"
   ]
  },
  {
   "cell_type": "markdown",
   "id": "67d6cb6f",
   "metadata": {},
   "source": [
    "## Memory Usage vs Battery Life"
   ]
  },
  {
   "cell_type": "code",
   "execution_count": null,
   "id": "eb924032",
   "metadata": {},
   "outputs": [],
   "source": [
    "\n",
    "plt.figure(figsize=(8,6))\n",
    "sns.scatterplot(x='Memory Usage (% RAM)', y='Battery Life (minutes)', hue='Task Type', data=data)\n",
    "plt.title('Memory Usage vs Battery Life')\n",
    "plt.xlabel('Memory Usage (% RAM)')\n",
    "plt.ylabel('Battery Life (Minutes)')\n",
    "plt.legend(title='Task Type', bbox_to_anchor=(1.05, 1), loc='upper left')\n",
    "plt.grid(True)\n",
    "plt.tight_layout()\n",
    "plt.savefig('/mnt/data/memory_vs_battery.png')\n",
    "plt.show()\n",
    "\n",
    "print(\"All visualizations are generated and saved as PNG files.\")\n"
   ]
  }
 ],
 "metadata": {},
 "nbformat": 4,
 "nbformat_minor": 5
}
