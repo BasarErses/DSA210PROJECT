{
 "cells": [
  {
   "cell_type": "markdown",
   "id": "25feeae0",
   "metadata": {},
   "source": [
    "# Data Visualization - Battery Efficiency Dataset\n",
    "\n",
    "In this notebook, we:\n",
    "- Load the processed dataset\n",
    "- Visualize key aspects of battery efficiency"
   ]
  },
  {
   "cell_type": "code",
   "execution_count": null,
   "id": "00b6ec3e",
   "metadata": {},
   "outputs": [],
   "source": [
    "import pandas as pd\n",
    "import matplotlib.pyplot as plt\n",
    "import seaborn as sns\n",
    "\n",
    "# Load the processed data\n",
    "data = pd.read_csv('/mnt/data/battery_efficiency_processed.csv')"
   ]
  },
  {
   "cell_type": "code",
   "execution_count": null,
   "id": "0c8434c8",
   "metadata": {},
   "outputs": [],
   "source": [
    "plt.figure(figsize=(8, 6))\n",
    "sns.histplot(data['Battery Life (minutes)'], bins=20, kde=True)\n",
    "plt.title('Distribution of Battery Life (in Minutes)')\n",
    "plt.xlabel('Battery Life (Minutes)')\n",
    "plt.ylabel('Frequency')\n",
    "plt.grid(True)\n",
    "plt.savefig('/mnt/data/Battery_Life_Distribution_FULL.png')\n",
    "plt.show()\n",
    "\n",
    "from IPython.display import Image, display\n",
    "display(Image('/mnt/data/Battery_Life_Distribution_FULL.png'))"
   ]
  },
  {
   "cell_type": "code",
   "execution_count": null,
   "id": "143a715d",
   "metadata": {},
   "outputs": [],
   "source": [
    "plt.figure(figsize=(8, 6))\n",
    "sns.scatterplot(x='Device Temperature (°C)', y='Battery Life (minutes)', hue='Task Type', data=data)\n",
    "plt.title('Device Temperature vs Battery Life')\n",
    "plt.xlabel('Device Temperature (°C)')\n",
    "plt.ylabel('Battery Life (Minutes)')\n",
    "plt.legend(title='Task Type', bbox_to_anchor=(1.05, 1), loc='upper left')\n",
    "plt.grid(True)\n",
    "plt.tight_layout()\n",
    "plt.savefig('/mnt/data/Temperature_vs_Battery_FULL.png')\n",
    "plt.show()\n",
    "\n",
    "display(Image('/mnt/data/Temperature_vs_Battery_FULL.png'))"
   ]
  },
  {
   "cell_type": "code",
   "execution_count": null,
   "id": "920aead1",
   "metadata": {},
   "outputs": [],
   "source": [
    "plt.figure(figsize=(8, 6))\n",
    "sns.scatterplot(x='CPU Utilization (%)', y='Battery Life (minutes)', hue='Device Model', data=data)\n",
    "plt.title('CPU Utilization vs Battery Life')\n",
    "plt.xlabel('CPU Utilization (%)')\n",
    "plt.ylabel('Battery Life (Minutes)')\n",
    "plt.legend(title='Device Model', bbox_to_anchor=(1.05, 1), loc='upper left')\n",
    "plt.grid(True)\n",
    "plt.tight_layout()\n",
    "plt.savefig('/mnt/data/CPU_vs_Battery_FULL.png')\n",
    "plt.show()\n",
    "\n",
    "display(Image('/mnt/data/CPU_vs_Battery_FULL.png'))"
   ]
  },
  {
   "cell_type": "code",
   "execution_count": null,
   "id": "3e74fdbc",
   "metadata": {},
   "outputs": [],
   "source": [
    "plt.figure(figsize=(8, 6))\n",
    "sns.scatterplot(x='Memory Usage (% RAM)', y='Battery Life (minutes)', hue='Task Type', data=data)\n",
    "plt.title('Memory Usage vs Battery Life')\n",
    "plt.xlabel('Memory Usage (% RAM)')\n",
    "plt.ylabel('Battery Life (Minutes)')\n",
    "plt.legend(title='Task Type', bbox_to_anchor=(1.05, 1), loc='upper left')\n",
    "plt.grid(True)\n",
    "plt.tight_layout()\n",
    "plt.savefig('/mnt/data/Memory_vs_Battery_FULL.png')\n",
    "plt.show()\n",
    "\n",
    "display(Image('/mnt/data/Memory_vs_Battery_FULL.png'))\n",
    "\n",
    "print(\"Data visualization complete. Graphs saved and displayed.\")"
   ]
  }
 ],
 "metadata": {},
 "nbformat": 4,
 "nbformat_minor": 5
}
