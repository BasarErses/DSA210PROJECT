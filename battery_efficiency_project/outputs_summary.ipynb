{
 "cells": [
  {
   "cell_type": "markdown",
   "id": "548da020",
   "metadata": {},
   "source": [
    "# 📋 Outputs Summary - Battery Efficiency Project\n",
    "\n",
    "This notebook compiles all outputs generated during the data processing stage."
   ]
  },
  {
   "cell_type": "code",
   "execution_count": null,
   "id": "12b34909",
   "metadata": {},
   "outputs": [],
   "source": [
    "# 📚 Import pandas\n",
    "import pandas as pd"
   ]
  },
  {
   "cell_type": "markdown",
   "id": "b0845249",
   "metadata": {},
   "source": [
    "## 1. Head of the Dataset (First Few Rows)"
   ]
  },
  {
   "cell_type": "code",
   "execution_count": null,
   "id": "efad2548",
   "metadata": {},
   "outputs": [],
   "source": [
    "# Sample first rows\n",
    "sample_data = {\n",
    "    'Date of Measurement': ['2025-04-09', '2025-04-10'],\n",
    "    'Device Model': ['iPhone 15 Pro', 'Galaxy S22'],\n",
    "    'Operating System Version': ['iOS 17.4', 'Android 13'],\n",
    "    'Task Type': ['Idle', 'Gaming'],\n",
    "    'Brightness Level (%)': [28, 77],\n",
    "    'Battery Life (hours:minutes)': ['6:36', '7:59'],\n",
    "    'Battery Health (%)': [85, 93],\n",
    "    'Device Temperature (°C)': [49.7, 45.7],\n",
    "    'CPU Utilization (%)': [45, 60],\n",
    "    'Memory Usage (% RAM)': [47, 46]\n",
    "}\n",
    "\n",
    "df = pd.DataFrame(sample_data)\n",
    "df.head()"
   ]
  },
  {
   "cell_type": "markdown",
   "id": "34ebb36a",
   "metadata": {},
   "source": [
    "## 2. Checking for Missing Values"
   ]
  },
  {
   "cell_type": "code",
   "execution_count": null,
   "id": "93e86a84",
   "metadata": {},
   "outputs": [],
   "source": [
    "# Checking null values\n",
    "df.isnull().sum()"
   ]
  },
  {
   "cell_type": "markdown",
   "id": "55edb4d4",
   "metadata": {},
   "source": [
    "## 3. After Battery Life Conversion (to Minutes)"
   ]
  },
  {
   "cell_type": "code",
   "execution_count": null,
   "id": "e4bc08b7",
   "metadata": {},
   "outputs": [],
   "source": [
    "# Converting 'Battery Life' to total minutes\n",
    "def battery_life_to_minutes(value):\n",
    "    hours, minutes = map(int, value.split(':'))\n",
    "    return hours * 60 + minutes\n",
    "\n",
    "df['Battery Life (minutes)'] = df['Battery Life (hours:minutes)'].apply(battery_life_to_minutes)\n",
    "df = df.drop('Battery Life (hours:minutes)', axis=1)\n",
    "df.head()"
   ]
  },
  {
   "cell_type": "markdown",
   "id": "072e5749",
   "metadata": {},
   "source": [
    "## 4. Summary Statistics"
   ]
  },
  {
   "cell_type": "code",
   "execution_count": null,
   "id": "806735c8",
   "metadata": {},
   "outputs": [],
   "source": [
    "# Basic descriptive statistics\n",
    "df.describe()"
   ]
  }
 ],
 "metadata": {},
 "nbformat": 4,
 "nbformat_minor": 5
}
