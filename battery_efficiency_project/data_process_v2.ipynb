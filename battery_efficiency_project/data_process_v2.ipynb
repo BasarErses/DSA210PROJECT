{
 "cells": [
  {
   "cell_type": "markdown",
   "id": "79d8c8f7",
   "metadata": {},
   "source": [
    "# Data Processing - Battery Efficiency Dataset\n",
    "\n",
    "In this notebook, we:\n",
    "- Load the dataset\n",
    "- Clean and preprocess the data\n",
    "- Perform basic exploratory analysis\n",
    "- Save the processed dataset"
   ]
  },
  {
   "cell_type": "code",
   "execution_count": null,
   "id": "dbb0ec7f",
   "metadata": {},
   "outputs": [],
   "source": [
    "# 📚 Import Libraries\n",
    "import pandas as pd\n",
    "import numpy as np"
   ]
  },
  {
   "cell_type": "code",
   "execution_count": null,
   "id": "6eb9b7a9",
   "metadata": {},
   "outputs": [],
   "source": [
    "# 📂 Load the Dataset\n",
    "file_path = '/mnt/data/battery_efficiency_data.csv'\n",
    "data = pd.read_csv(file_path)\n",
    "print('Dataset loaded successfully!')\n",
    "data.head()"
   ]
  },
  {
   "cell_type": "code",
   "execution_count": null,
   "id": "f08e5368",
   "metadata": {},
   "outputs": [],
   "source": [
    "# 🔎 Check for Missing Values\n",
    "print('Checking missing values:')\n",
    "print(data.isnull().sum())"
   ]
  },
  {
   "cell_type": "code",
   "execution_count": null,
   "id": "fd5e7ddb",
   "metadata": {},
   "outputs": [],
   "source": [
    "# 🔄 Convert Battery Life to Minutes\n",
    "def battery_life_to_minutes(value):\n",
    "    hours, minutes = map(int, value.split(':'))\n",
    "    return hours * 60 + minutes\n",
    "\n",
    "data['Battery Life (minutes)'] = data['Battery Life (hours:minutes)'].apply(battery_life_to_minutes)\n",
    "data = data.drop('Battery Life (hours:minutes)', axis=1)\n",
    "print('Battery life converted to minutes.')\n",
    "data.head()"
   ]
  },
  {
   "cell_type": "code",
   "execution_count": null,
   "id": "9f643a3e",
   "metadata": {},
   "outputs": [],
   "source": [
    "# 📈 Summary Statistics\n",
    "data.describe()"
   ]
  },
  {
   "cell_type": "code",
   "execution_count": null,
   "id": "6336bab7",
   "metadata": {},
   "outputs": [],
   "source": [
    "# 💾 Save the Processed Dataset\n",
    "processed_file_path = '/mnt/data/battery_efficiency_processed.csv'\n",
    "data.to_csv(processed_file_path, index=False)\n",
    "print(f'Processed data saved successfully at {processed_file_path}')"
   ]
  }
 ],
 "metadata": {},
 "nbformat": 4,
 "nbformat_minor": 5
}
