{
 "cells": [
  {
   "cell_type": "markdown",
   "id": "5f414eb7",
   "metadata": {},
   "source": [
    "# 🤖 ML Modeling - Battery Efficiency\n",
    "\n",
    "In this notebook, we train a simple machine learning model to predict **Battery Life (minutes)** based on device usage patterns."
   ]
  },
  {
   "cell_type": "code",
   "execution_count": null,
   "id": "fe9e0bcf",
   "metadata": {},
   "outputs": [],
   "source": [
    "# 📚 Import Libraries\n",
    "import pandas as pd\n",
    "from sklearn.model_selection import train_test_split\n",
    "from sklearn.linear_model import LinearRegression\n",
    "from sklearn.metrics import mean_squared_error, r2_score"
   ]
  },
  {
   "cell_type": "code",
   "execution_count": null,
   "id": "af4978b6",
   "metadata": {},
   "outputs": [],
   "source": [
    "# 📂 Load the Processed Dataset\n",
    "data = pd.read_csv('battery_efficiency_data.csv')\n",
    "data['Battery Life (minutes)'] = data['Battery Life (hours:minutes)'].apply(\n",
    "    lambda x: int(x.split(':')[0]) * 60 + int(x.split(':')[1])\n",
    ")\n",
    "data = data.drop(['Battery Life (hours:minutes)', 'Date of Measurement', 'Device Model', 'Operating System Version'], axis=1)\n",
    "data.head()"
   ]
  },
  {
   "cell_type": "code",
   "execution_count": null,
   "id": "e5e0d64b",
   "metadata": {},
   "outputs": [],
   "source": [
    "# 🔣 Encode categorical variables\n",
    "data = pd.get_dummies(data, columns=['Task Type'], drop_first=True)\n",
    "data.head()"
   ]
  },
  {
   "cell_type": "code",
   "execution_count": null,
   "id": "fd298d7d",
   "metadata": {},
   "outputs": [],
   "source": [
    "# ✂️ Split the Data\n",
    "X = data.drop('Battery Life (minutes)', axis=1)\n",
    "y = data['Battery Life (minutes)']\n",
    "\n",
    "X_train, X_test, y_train, y_test = train_test_split(X, y, test_size=0.2, random_state=42)"
   ]
  },
  {
   "cell_type": "code",
   "execution_count": null,
   "id": "3d72347f",
   "metadata": {},
   "outputs": [],
   "source": [
    "# 🤖 Train a Linear Regression Model\n",
    "model = LinearRegression()\n",
    "model.fit(X_train, y_train)"
   ]
  },
  {
   "cell_type": "code",
   "execution_count": null,
   "id": "e546f703",
   "metadata": {},
   "outputs": [],
   "source": [
    "# 📈 Evaluate the Model\n",
    "y_pred = model.predict(X_test)\n",
    "mse = mean_squared_error(y_test, y_pred)\n",
    "r2 = r2_score(y_test, y_pred)\n",
    "print(f'Mean Squared Error: {mse:.2f}')\n",
    "print(f'R² Score: {r2:.2f}')"
   ]
  },
  {
   "cell_type": "code",
   "execution_count": null,
   "id": "dabe4b55",
   "metadata": {},
   "outputs": [],
   "source": [
    "# 🔍 View Feature Coefficients\n",
    "coeff_df = pd.DataFrame(model.coef_, index=X.columns, columns=['Coefficient'])\n",
    "coeff_df"
   ]
  }
 ],
 "metadata": {},
 "nbformat": 4,
 "nbformat_minor": 5
}
