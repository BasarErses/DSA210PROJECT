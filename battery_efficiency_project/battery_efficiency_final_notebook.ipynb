{
 "cells": [
  {
   "cell_type": "markdown",
   "id": "b1796608",
   "metadata": {},
   "source": [
    "# Battery Efficiency Analysis Project\n",
    "Consolidated Jupyter Notebook"
   ]
  },
  {
   "cell_type": "code",
   "execution_count": null,
   "id": "77c4af83",
   "metadata": {},
   "outputs": [],
   "source": [
    "import pandas as pd\n",
    "df = pd.read_csv('battery_efficiency_data_enriched.csv')\n",
    "df.head()"
   ]
  },
  {
   "cell_type": "markdown",
   "id": "6d21c549",
   "metadata": {},
   "source": [
    "## Feature Engineering"
   ]
  },
  {
   "cell_type": "code",
   "execution_count": null,
   "id": "c5fb86c7",
   "metadata": {},
   "outputs": [],
   "source": [
    "# Drop raw battery life string field\n",
    "df.drop(columns=['Battery Life'], inplace=True)\n",
    "X = df.drop(columns=['Battery Life (min)', 'Date of Measurement'])\n",
    "y = df['Battery Life (min)']"
   ]
  },
  {
   "cell_type": "markdown",
   "id": "cb49df79",
   "metadata": {},
   "source": [
    "## Machine Learning Models"
   ]
  },
  {
   "cell_type": "code",
   "execution_count": null,
   "id": "3f3294c1",
   "metadata": {},
   "outputs": [],
   "source": [
    "from sklearn.model_selection import train_test_split\n",
    "from sklearn.preprocessing import OneHotEncoder, StandardScaler\n",
    "from sklearn.compose import ColumnTransformer\n",
    "from sklearn.pipeline import Pipeline\n",
    "from sklearn.linear_model import LinearRegression\n",
    "from sklearn.ensemble import RandomForestRegressor, GradientBoostingRegressor\n",
    "from sklearn.metrics import mean_absolute_error, mean_squared_error, r2_score\n",
    "\n",
    "categorical = ['Device Model', 'Operating System Version', 'Task Type']\n",
    "numerical = [col for col in X.columns if col not in categorical]\n",
    "\n",
    "preprocessor = ColumnTransformer([\n",
    "    ('cat', OneHotEncoder(handle_unknown='ignore'), categorical),\n",
    "    ('num', StandardScaler(), numerical)\n",
    "])\n",
    "\n",
    "models = {\n",
    "    'Linear Regression': LinearRegression(),\n",
    "    'Random Forest': RandomForestRegressor(n_estimators=100, random_state=42),\n",
    "    'Gradient Boosting': GradientBoostingRegressor(n_estimators=100, random_state=42)\n",
    "}\n",
    "\n",
    "X_train, X_test, y_train, y_test = train_test_split(X, y, test_size=0.2, random_state=42)\n",
    "\n",
    "results = []\n",
    "for name, model in models.items():\n",
    "    pipeline = Pipeline([('preprocessor', preprocessor), ('model', model)])\n",
    "    pipeline.fit(X_train, y_train)\n",
    "    pred = pipeline.predict(X_test)\n",
    "    results.append({\n",
    "        'Model': name,\n",
    "        'MAE': mean_absolute_error(y_test, pred),\n",
    "        'RMSE': mean_squared_error(y_test, pred, squared=False),\n",
    "        'R2 Score': r2_score(y_test, pred)\n",
    "    })\n",
    "import pandas as pd\n",
    "pd.DataFrame(results)"
   ]
  }
 ],
 "metadata": {},
 "nbformat": 4,
 "nbformat_minor": 5
}
