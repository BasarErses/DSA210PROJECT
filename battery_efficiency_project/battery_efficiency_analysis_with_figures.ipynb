{
 "cells": [
  {
   "cell_type": "markdown",
   "id": "4bae6a71",
   "metadata": {},
   "source": [
    "# 📘 Optimizing Battery Efficiency Across Devices and Usage Patterns\n",
    "\n",
    "### Motivation\n",
    "Portable devices are critical to modern life. Efficient battery usage improves both user experience and hardware longevity. This project aims to analyze how various features like brightness, CPU load, and temperature influence battery performance.\n",
    "\n",
    "---"
   ]
  },
  {
   "cell_type": "markdown",
   "id": "296fd84f",
   "metadata": {},
   "source": [
    "## 📂 Dataset Overview\n",
    "The dataset includes the following columns:\n",
    "- Date of Measurement\n",
    "- Device Model\n",
    "- Operating System Version\n",
    "- Task Type\n",
    "- Brightness Level (%)\n",
    "- Battery Life (hours:minutes)\n",
    "- Battery Health (%)\n",
    "- Device Temperature (°C)\n",
    "- CPU Utilization (%)\n",
    "- Memory Usage (% RAM)\n"
   ]
  },
  {
   "cell_type": "markdown",
   "id": "b32f6a39",
   "metadata": {},
   "source": [
    "## 🔧 Data Preprocessing"
   ]
  },
  {
   "cell_type": "code",
   "execution_count": null,
   "id": "068fd070",
   "metadata": {},
   "outputs": [],
   "source": [
    "\n",
    "import pandas as pd\n",
    "import numpy as np\n",
    "import matplotlib.pyplot as plt\n",
    "import seaborn as sns\n",
    "\n",
    "df = pd.read_csv(\"battery_efficiency_data.csv\")\n",
    "\n",
    "def convert_to_minutes(val):\n",
    "    if pd.isna(val): return np.nan\n",
    "    hours, minutes = map(int, val.split(\":\"))\n",
    "    return hours * 60 + minutes\n",
    "\n",
    "df[\"Battery Life (min)\"] = df[\"Battery Life (hours:minutes)\"].apply(convert_to_minutes)\n",
    "df.drop(columns=[\"Battery Life (hours:minutes)\"], inplace=True)\n",
    "df.dropna(inplace=True)\n",
    "df_encoded = pd.get_dummies(df, columns=[\"Device Model\", \"Operating System Version\", \"Task Type\"])\n",
    "cleaned_df = df_encoded.copy()\n",
    "df.head()\n"
   ]
  },
  {
   "cell_type": "markdown",
   "id": "87544cee",
   "metadata": {},
   "source": [
    "## 📊 Exploratory Data Analysis (EDA)\n",
    "### 🔋 Battery Life Distribution"
   ]
  },
  {
   "cell_type": "code",
   "execution_count": null,
   "id": "8a571a2f",
   "metadata": {},
   "outputs": [],
   "source": [
    "\n",
    "plt.figure(figsize=(8, 5))\n",
    "sns.histplot(cleaned_df[\"Battery Life (min)\"], bins=15, kde=True)\n",
    "plt.title(\"Battery Life Distribution\")\n",
    "plt.xlabel(\"Battery Life (minutes)\")\n",
    "plt.ylabel(\"Frequency\")\n",
    "plt.show()\n"
   ]
  },
  {
   "cell_type": "markdown",
   "id": "5979151e",
   "metadata": {},
   "source": [
    "### 📦 Battery Life vs Task Type"
   ]
  },
  {
   "cell_type": "code",
   "execution_count": null,
   "id": "249685c8",
   "metadata": {},
   "outputs": [],
   "source": [
    "\n",
    "df_box = df.copy()\n",
    "plt.figure(figsize=(10, 5))\n",
    "sns.boxplot(x=\"Task Type\", y=\"Battery Life (min)\", data=df_box)\n",
    "plt.title(\"Battery Life vs. Task Type\")\n",
    "plt.xlabel(\"Task Type\")\n",
    "plt.ylabel(\"Battery Life (minutes)\")\n",
    "plt.xticks(rotation=45)\n",
    "plt.show()\n"
   ]
  },
  {
   "cell_type": "markdown",
   "id": "dca0d752",
   "metadata": {},
   "source": [
    "### 🔥 Correlation Heatmap"
   ]
  },
  {
   "cell_type": "code",
   "execution_count": null,
   "id": "8721f0bd",
   "metadata": {},
   "outputs": [],
   "source": [
    "\n",
    "plt.figure(figsize=(12, 10))\n",
    "sns.heatmap(cleaned_df.corr(numeric_only=True), cmap=\"coolwarm\", annot=False)\n",
    "plt.title(\"Correlation Heatmap of Battery Efficiency Features\")\n",
    "plt.tight_layout()\n",
    "plt.show()\n"
   ]
  },
  {
   "cell_type": "markdown",
   "id": "77d129af",
   "metadata": {},
   "source": [
    "## 📐 Hypothesis Testing\n",
    "Null Hypothesis: Task Type does not significantly affect battery life."
   ]
  },
  {
   "cell_type": "code",
   "execution_count": null,
   "id": "499bf982",
   "metadata": {},
   "outputs": [],
   "source": [
    "\n",
    "from scipy.stats import f_oneway\n",
    "\n",
    "df_original = pd.read_csv(\"battery_efficiency_data.csv\")\n",
    "df_original[\"Battery Life (min)\"] = df_original[\"Battery Life (hours:minutes)\"].apply(convert_to_minutes)\n",
    "df_original.dropna(subset=[\"Task Type\", \"Battery Life (min)\"], inplace=True)\n",
    "task_groups = df_original.groupby(\"Task Type\")[\"Battery Life (min)\"].apply(list)\n",
    "f_stat, p_val = f_oneway(*task_groups)\n",
    "print(f\"F-statistic: {f_stat:.3f}\")\n",
    "print(f\"p-value: {p_val:.3f}\")\n"
   ]
  },
  {
   "cell_type": "markdown",
   "id": "85ce0053",
   "metadata": {},
   "source": [
    "## 🤖 Linear Regression Modeling"
   ]
  },
  {
   "cell_type": "code",
   "execution_count": null,
   "id": "3ad37453",
   "metadata": {},
   "outputs": [],
   "source": [
    "\n",
    "from sklearn.model_selection import train_test_split\n",
    "from sklearn.linear_model import LinearRegression\n",
    "from sklearn.metrics import mean_squared_error, r2_score\n",
    "\n",
    "X = cleaned_df.drop(columns=[\"Date of Measurement\", \"Battery Life (min)\"])\n",
    "y = cleaned_df[\"Battery Life (min)\"]\n",
    "X_train, X_test, y_train, y_test = train_test_split(X, y, test_size=0.2, random_state=42)\n",
    "\n",
    "lr_model = LinearRegression()\n",
    "lr_model.fit(X_train, y_train)\n",
    "y_pred = lr_model.predict(X_test)\n",
    "\n",
    "print(\"Mean Squared Error:\", mean_squared_error(y_test, y_pred))\n",
    "print(\"R² Score:\", r2_score(y_test, y_pred))\n"
   ]
  },
  {
   "cell_type": "markdown",
   "id": "16719857",
   "metadata": {},
   "source": [
    "### 📈 Actual vs Predicted Battery Life"
   ]
  },
  {
   "cell_type": "code",
   "execution_count": null,
   "id": "536882a4",
   "metadata": {},
   "outputs": [],
   "source": [
    "\n",
    "plt.figure(figsize=(6, 6))\n",
    "plt.scatter(y_test, y_pred)\n",
    "plt.plot([y_test.min(), y_test.max()], [y_test.min(), y_test.max()], 'r--')\n",
    "plt.xlabel(\"Actual Battery Life\")\n",
    "plt.ylabel(\"Predicted Battery Life\")\n",
    "plt.title(\"Actual vs Predicted Battery Life\")\n",
    "plt.show()\n"
   ]
  },
  {
   "cell_type": "markdown",
   "id": "78cf0cea",
   "metadata": {},
   "source": [
    "## 🔍 Classification Modeling (Random Forest)"
   ]
  },
  {
   "cell_type": "code",
   "execution_count": null,
   "id": "992ec439",
   "metadata": {},
   "outputs": [],
   "source": [
    "\n",
    "from sklearn.ensemble import RandomForestClassifier\n",
    "from sklearn.metrics import classification_report\n",
    "from sklearn.preprocessing import LabelEncoder\n",
    "\n",
    "def classify_life(mins):\n",
    "    if mins < 240: return \"Short\"\n",
    "    elif mins <= 360: return \"Medium\"\n",
    "    else: return \"Long\"\n",
    "\n",
    "df_class = cleaned_df.copy()\n",
    "df_class[\"Battery Life Class\"] = df_class[\"Battery Life (min)\"].apply(classify_life)\n",
    "\n",
    "X_cls = df_class.drop(columns=[\"Date of Measurement\", \"Battery Life (min)\", \"Battery Life Class\"])\n",
    "y_cls = df_class[\"Battery Life Class\"]\n",
    "le = LabelEncoder()\n",
    "y_encoded = le.fit_transform(y_cls)\n",
    "\n",
    "X_train_cls, X_test_cls, y_train_cls, y_test_cls = train_test_split(X_cls, y_encoded, test_size=0.2, random_state=42)\n",
    "\n",
    "clf = RandomForestClassifier(random_state=42)\n",
    "clf.fit(X_train_cls, y_train_cls)\n",
    "y_pred_cls = clf.predict(X_test_cls)\n",
    "\n",
    "print(classification_report(y_test_cls, y_pred_cls, target_names=le.classes_))\n"
   ]
  },
  {
   "cell_type": "markdown",
   "id": "b53f5b48",
   "metadata": {},
   "source": [
    "### 📊 Feature Importances (Top 10)"
   ]
  },
  {
   "cell_type": "code",
   "execution_count": null,
   "id": "e056b16f",
   "metadata": {},
   "outputs": [],
   "source": [
    "\n",
    "importances = clf.feature_importances_\n",
    "feature_names = X_cls.columns\n",
    "feat_imp_df = pd.DataFrame({\"Feature\": feature_names, \"Importance\": importances})\n",
    "feat_imp_df.sort_values(by=\"Importance\", ascending=False, inplace=True)\n",
    "\n",
    "plt.figure(figsize=(10, 6))\n",
    "sns.barplot(x=\"Importance\", y=\"Feature\", data=feat_imp_df.head(10))\n",
    "plt.title(\"Top 10 Feature Importances\")\n",
    "plt.xlabel(\"Importance\")\n",
    "plt.ylabel(\"Feature\")\n",
    "plt.tight_layout()\n",
    "plt.show()\n"
   ]
  },
  {
   "cell_type": "markdown",
   "id": "481b766f",
   "metadata": {},
   "source": [
    "## ✅ Conclusion & Future Work\n",
    "- Brightness, CPU usage, and memory are moderately correlated with lower battery life.\n",
    "- Linear regression had low explanatory power (R²).\n",
    "- Random forest classifier achieved ~40% accuracy, mostly identifying long battery life.\n",
    "\n",
    "### 🔮 Future Directions\n",
    "- Increase dataset size\n",
    "- Improve class balance for ML tasks\n",
    "- Explore deep learning and time-based modeling"
   ]
  }
 ],
 "metadata": {},
 "nbformat": 4,
 "nbformat_minor": 5
}
