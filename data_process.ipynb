{
 "cells": [
  {
   "cell_type": "markdown",
   "id": "a2708215",
   "metadata": {},
   "source": [
    "# Data Processing - Battery Efficiency Dataset\n",
    "\n",
    "In this notebook, we:\n",
    "- Load the dataset\n",
    "- Clean and preprocess the data\n",
    "- Perform basic exploratory analysis"
   ]
  },
  {
   "cell_type": "code",
   "execution_count": null,
   "id": "b86c02b6",
   "metadata": {},
   "outputs": [],
   "source": [
    "\n",
    "import pandas as pd\n",
    "import numpy as np\n",
    "\n",
    "# Load the dataset\n",
    "data = pd.read_csv('/mnt/data/battery_efficiency_data.csv')\n",
    "\n",
    "# Show first few rows\n",
    "data.head()\n"
   ]
  },
  {
   "cell_type": "code",
   "execution_count": null,
   "id": "539c1d3b",
   "metadata": {},
   "outputs": [],
   "source": [
    "\n",
    "# Check missing values\n",
    "data.isnull().sum()\n"
   ]
  },
  {
   "cell_type": "code",
   "execution_count": null,
   "id": "e5b79e37",
   "metadata": {},
   "outputs": [],
   "source": [
    "\n",
    "# Convert 'Battery Life (hours:minutes)' to total minutes\n",
    "def battery_life_to_minutes(value):\n",
    "    hours, minutes = map(int, value.split(':'))\n",
    "    return hours * 60 + minutes\n",
    "\n",
    "data['Battery Life (minutes)'] = data['Battery Life (hours:minutes)'].apply(battery_life_to_minutes)\n",
    "\n",
    "# Drop original string format column\n",
    "data.drop('Battery Life (hours:minutes)', axis=1, inplace=True)\n"
   ]
  },
  {
   "cell_type": "code",
   "execution_count": null,
   "id": "0891fb27",
   "metadata": {},
   "outputs": [],
   "source": [
    "\n",
    "# Basic Statistics\n",
    "data.describe()\n"
   ]
  },
  {
   "cell_type": "code",
   "execution_count": null,
   "id": "a1e269a1",
   "metadata": {},
   "outputs": [],
   "source": [
    "\n",
    "# Save processed data\n",
    "data.to_csv('/mnt/data/battery_efficiency_processed.csv', index=False)\n",
    "\n",
    "print(\"Data processing complete. File saved as battery_efficiency_processed.csv.\")\n"
   ]
  }
 ],
 "metadata": {},
 "nbformat": 4,
 "nbformat_minor": 5
}
