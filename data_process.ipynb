
{
  "nbformat": 4,
  "nbformat_minor": 0,
  "metadata": {
    "kernelspec": {
      "name": "python3",
      "display_name": "Python 3"
    },
    "language_info": {
      "name": "python"
    }
  },
  "cells": [
    {
      "cell_type": "markdown",
      "source": ["# Data Processing and Cleaning"]
    },
    {
      "cell_type": "code",
      "source": [
        "import pandas as pd
",
        "import numpy as np
",
        "from datetime import datetime
",
        "import os
",
        "
",
        "# Load the dataset
",
        "data = pd.read_csv('raw_data/battery_efficiency_data.csv')
",
        "data['Date of Measurement'] = pd.to_datetime(data['Date of Measurement'])
",
        "
",
        "# Clean the 'Battery Life' column
",
        "data['Battery Life (minutes)'] = data['Battery Life (hours:minutes)'].apply(
",
        "    lambda x: int(x.split(':')[0]) * 60 + int(x.split(':')[1]))
",
        "data.drop(columns=['Battery Life (hours:minutes)'], inplace=True)
",
        "
",
        "# Check for missing values
",
        "data.isnull().sum()"
      ],
      "execution_count": 1
    },
    {
      "cell_type": "markdown",
      "source": ["### Cleaned Data"]
    },
    {
      "cell_type": "code",
      "source": [
        "# Show the cleaned data
",
        "data.head()"
      ],
      "execution_count": 2
    }
  ]
}
