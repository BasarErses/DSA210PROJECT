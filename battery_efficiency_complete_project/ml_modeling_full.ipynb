{
 "cells": [
  {
   "cell_type": "markdown",
   "id": "c5e3b2e7",
   "metadata": {},
   "source": [
    "# 🤖 Full ML Modeling - Battery Efficiency Dataset\n",
    "\n",
    "This notebook trains a **Linear Regression** model using the entire battery efficiency dataset."
   ]
  },
  {
   "cell_type": "code",
   "execution_count": null,
   "id": "d49a6ec5",
   "metadata": {},
   "outputs": [],
   "source": [
    "# 📚 Import Libraries\n",
    "import pandas as pd\n",
    "from sklearn.model_selection import train_test_split\n",
    "from sklearn.linear_model import LinearRegression\n",
    "from sklearn.metrics import mean_squared_error, r2_score"
   ]
  },
  {
   "cell_type": "code",
   "execution_count": null,
   "id": "001c0af8",
   "metadata": {},
   "outputs": [],
   "source": [
    "# 📂 Load and Preprocess Dataset\n",
    "data = pd.read_csv('battery_efficiency_data.csv')\n",
    "\n",
    "# Convert battery life to minutes\n",
    "data['Battery Life (minutes)'] = data['Battery Life (hours:minutes)'].apply(\n",
    "    lambda x: int(x.split(':')[0]) * 60 + int(x.split(':')[1])\n",
    ")\n",
    "# Drop unused columns\n",
    "data = data.drop(columns=['Date of Measurement', 'Device Model', 'Operating System Version', 'Battery Life (hours:minutes)'])\n",
    "# One-hot encode Task Type\n",
    "data = pd.get_dummies(data, columns=['Task Type'], drop_first=True)\n",
    "data.head()"
   ]
  },
  {
   "cell_type": "code",
   "execution_count": null,
   "id": "1728627a",
   "metadata": {},
   "outputs": [],
   "source": [
    "# ✂️ Split the Data\n",
    "X = data.drop('Battery Life (minutes)', axis=1)\n",
    "y = data['Battery Life (minutes)']\n",
    "\n",
    "X_train, X_test, y_train, y_test = train_test_split(X, y, test_size=0.2, random_state=42)"
   ]
  },
  {
   "cell_type": "code",
   "execution_count": null,
   "id": "291e2c4d",
   "metadata": {},
   "outputs": [],
   "source": [
    "# 🤖 Train the Linear Regression Model\n",
    "model = LinearRegression()\n",
    "model.fit(X_train, y_train)"
   ]
  },
  {
   "cell_type": "code",
   "execution_count": null,
   "id": "d3fa9301",
   "metadata": {},
   "outputs": [],
   "source": [
    "# 📈 Evaluate the Model\n",
    "y_pred = model.predict(X_test)\n",
    "mse = mean_squared_error(y_test, y_pred)\n",
    "r2 = r2_score(y_test, y_pred)\n",
    "print(f'Mean Squared Error: {mse:.2f}')\n",
    "print(f'R² Score: {r2:.2f}')"
   ]
  },
  {
   "cell_type": "code",
   "execution_count": null,
   "id": "2b0aaabe",
   "metadata": {},
   "outputs": [],
   "source": [
    "# 📊 Feature Coefficients\n",
    "coeff_df = pd.DataFrame(model.coef_, index=X.columns, columns=['Coefficient'])\n",
    "coeff_df"
   ]
  }
 ],
 "metadata": {},
 "nbformat": 4,
 "nbformat_minor": 5
}
