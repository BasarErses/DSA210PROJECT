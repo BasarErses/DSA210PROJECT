{
 "cells": [
  {
   "cell_type": "markdown",
   "id": "f989844d",
   "metadata": {},
   "source": [
    "# 📋 Mini Battery Efficiency Dataset\n",
    "\n",
    "This notebook loads and displays a small version of the dataset for quick testing."
   ]
  },
  {
   "cell_type": "code",
   "execution_count": null,
   "id": "a094b405",
   "metadata": {},
   "outputs": [],
   "source": [
    "# Import pandas\n",
    "import pandas as pd"
   ]
  },
  {
   "cell_type": "code",
   "execution_count": null,
   "id": "bffc004b",
   "metadata": {},
   "outputs": [],
   "source": [
    "# Load the mini dataset\n",
    "file_path = 'mini_battery_efficiency_data.csv'\n",
    "data = pd.read_csv(file_path)\n",
    "\n",
    "# Display the dataset\n",
    "data.head()"
   ]
  },
  {
   "cell_type": "code",
   "execution_count": null,
   "id": "c899f9dd",
   "metadata": {},
   "outputs": [],
   "source": [
    "# Basic Statistics for the mini dataset\n",
    "data.describe()"
   ]
  }
 ],
 "metadata": {},
 "nbformat": 4,
 "nbformat_minor": 5
}
