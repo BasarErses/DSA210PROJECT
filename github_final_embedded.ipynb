{
 "cells": [
  {
   "cell_type": "markdown",
   "id": "80084d47",
   "metadata": {},
   "source": [
    "# 📊 Battery Efficiency Analysis\n",
    "\n",
    "This notebook:\n",
    "- Prepares a small sample battery dataset\n",
    "- Visualizes Battery Life with respect to device parameters\n"
   ]
  },
  {
   "cell_type": "code",
   "execution_count": null,
   "id": "09f0d95d",
   "metadata": {},
   "outputs": [],
   "source": [
    "\n",
    "import pandas as pd\n",
    "import matplotlib.pyplot as plt\n",
    "import seaborn as sns\n",
    "\n",
    "# Create sample data manually\n",
    "data = pd.DataFrame({\n",
    "    'Device Model': ['iPhone 15', 'Galaxy S22', 'Pixel 7', 'MacBook Pro', 'iPhone 15'],\n",
    "    'Task Type': ['Idle', 'Gaming', 'Streaming', 'Coding', 'Gaming'],\n",
    "    'Brightness Level (%)': [30, 90, 80, 50, 70],\n",
    "    'Battery Life (minutes)': [390, 260, 320, 400, 280],\n",
    "    'Battery Health (%)': [95, 90, 88, 92, 85],\n",
    "    'Device Temperature (°C)': [38.5, 49.0, 45.2, 40.5, 47.1],\n",
    "    'CPU Utilization (%)': [20, 70, 50, 30, 65],\n",
    "    'Memory Usage (% RAM)': [35, 75, 60, 45, 70]\n",
    "})\n",
    "\n",
    "sns.set(style='whitegrid')\n",
    "data.head()\n"
   ]
  },
  {
   "cell_type": "markdown",
   "id": "8b5bd669",
   "metadata": {},
   "source": [
    "## 📈 Battery Life Distribution"
   ]
  },
  {
   "cell_type": "code",
   "execution_count": null,
   "id": "e20a218d",
   "metadata": {},
   "outputs": [],
   "source": [
    "\n",
    "plt.figure(figsize=(8,6))\n",
    "sns.histplot(data['Battery Life (minutes)'], bins=10, kde=True)\n",
    "plt.title('Distribution of Battery Life (Minutes)')\n",
    "plt.xlabel('Battery Life (Minutes)')\n",
    "plt.ylabel('Frequency')\n",
    "plt.grid(True)\n",
    "plt.show()\n"
   ]
  },
  {
   "cell_type": "markdown",
   "id": "4290159c",
   "metadata": {},
   "source": [
    "## 🔥 Device Temperature vs Battery Life"
   ]
  },
  {
   "cell_type": "code",
   "execution_count": null,
   "id": "ef42b2a0",
   "metadata": {},
   "outputs": [],
   "source": [
    "\n",
    "plt.figure(figsize=(8,6))\n",
    "sns.scatterplot(x='Device Temperature (°C)', y='Battery Life (minutes)', hue='Task Type', data=data, s=100)\n",
    "plt.title('Device Temperature vs Battery Life')\n",
    "plt.xlabel('Device Temperature (°C)')\n",
    "plt.ylabel('Battery Life (Minutes)')\n",
    "plt.grid(True)\n",
    "plt.tight_layout()\n",
    "plt.show()\n"
   ]
  },
  {
   "cell_type": "markdown",
   "id": "71e8080d",
   "metadata": {},
   "source": [
    "## 🖥️ CPU Utilization vs Battery Life"
   ]
  },
  {
   "cell_type": "code",
   "execution_count": null,
   "id": "f4479473",
   "metadata": {},
   "outputs": [],
   "source": [
    "\n",
    "plt.figure(figsize=(8,6))\n",
    "sns.scatterplot(x='CPU Utilization (%)', y='Battery Life (minutes)', hue='Device Model', data=data, s=100)\n",
    "plt.title('CPU Utilization vs Battery Life')\n",
    "plt.xlabel('CPU Utilization (%)')\n",
    "plt.ylabel('Battery Life (Minutes)')\n",
    "plt.grid(True)\n",
    "plt.tight_layout()\n",
    "plt.show()\n"
   ]
  },
  {
   "cell_type": "markdown",
   "id": "a23e0077",
   "metadata": {},
   "source": [
    "## 🧠 Memory Usage vs Battery Life"
   ]
  },
  {
   "cell_type": "code",
   "execution_count": null,
   "id": "4e59688c",
   "metadata": {},
   "outputs": [],
   "source": [
    "\n",
    "plt.figure(figsize=(8,6))\n",
    "sns.scatterplot(x='Memory Usage (% RAM)', y='Battery Life (minutes)', hue='Task Type', data=data, s=100)\n",
    "plt.title('Memory Usage vs Battery Life')\n",
    "plt.xlabel('Memory Usage (% RAM)')\n",
    "plt.ylabel('Battery Life (Minutes)')\n",
    "plt.grid(True)\n",
    "plt.tight_layout()\n",
    "plt.show()\n",
    "\n",
    "print(\"✅ All visualizations generated successfully!\")\n"
   ]
  }
 ],
 "metadata": {},
 "nbformat": 4,
 "nbformat_minor": 5
}
